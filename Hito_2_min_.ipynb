{
 "cells": [
  {
   "cell_type": "markdown",
   "metadata": {
    "id": "rTymYOakD5TD"
   },
   "source": [
    "# Hito 2 Mineria de datos (cc5205)\n"
   ]
  },
  {
   "cell_type": "markdown",
   "metadata": {
    "id": "GSjdq55fEMT3"
   },
   "source": [
    "Integrantes:\n",
    "\n",
    "*   Elemento de lista\n",
    "*   Elemento de lista\n",
    "*   Elemento de lista\n",
    "*   Elemento de lista\n",
    "*   Elemento de lista\n",
    "\n",
    "\n"
   ]
  },
  {
   "cell_type": "markdown",
   "metadata": {
    "id": "fALQKg0REU5E"
   },
   "source": [
    "# Indice"
   ]
  },
  {
   "cell_type": "markdown",
   "metadata": {
    "id": "8ffkHVi6Ee7P"
   },
   "source": [
    "# Introduccion"
   ]
  },
  {
   "cell_type": "markdown",
   "metadata": {
    "id": "WxWWREgJEm8t"
   },
   "source": [
    "# Limpieza de los datasets\n"
   ]
  },
  {
   "cell_type": "markdown",
   "metadata": {
    "id": "33NffQ_qE78n"
   },
   "source": [
    "# Exploracion de datos"
   ]
  },
  {
   "cell_type": "code",
   "execution_count": 4,
   "metadata": {
    "id": "A2wFrZtENbz_"
   },
   "outputs": [],
   "source": [
    "#Importacion de librerias para el trabajo\n",
    "import pandas as pd\n",
    "import matplotlib.pyplot as plt\n",
    "import seaborn as sns\n",
    "\n",
    "# seteamos que pandas imprima todas las columnas al mostrar un dataframe\n",
    "pd.set_option('display.max_columns', None)"
   ]
  },
  {
   "cell_type": "code",
   "execution_count": null,
   "metadata": {
    "id": "VHt-5qw6N0F5"
   },
   "outputs": [],
   "source": [
    "# importanción de anime y users, que son las tablas mas pequeñas\n",
    "anime = pd.read_csv('anime_cleaned.csv')\n",
    "users = pd.read_csv('users_cleaned.csv')\n",
    "#weaweeawea"
   ]
  },
  {
   "cell_type": "markdown",
   "metadata": {
    "id": "mQpm7I56FBGp"
   },
   "source": [
    "# Consultas sobre el dataset"
   ]
  },
  {
   "cell_type": "markdown",
   "metadata": {
    "id": "L853IttIFOwo"
   },
   "source": [
    "# Preguntas y problemas"
   ]
  },
  {
   "cell_type": "markdown",
   "metadata": {
    "id": "gkQdFIzPFX8S"
   },
   "source": [
    "# Propuesta experimental"
   ]
  },
  {
   "cell_type": "markdown",
   "metadata": {
    "id": "CiYaZek2FqOH"
   },
   "source": [
    "# Respondiendo la pregunta 1 usando el metodo experimental"
   ]
  },
  {
   "cell_type": "markdown",
   "metadata": {
    "id": "DHURFsJZFy1S"
   },
   "source": [
    "algoritmo 1"
   ]
  },
  {
   "cell_type": "markdown",
   "metadata": {
    "id": "AE8VnFNXF487"
   },
   "source": [
    "algoritmo 2"
   ]
  },
  {
   "cell_type": "markdown",
   "metadata": {
    "id": "Jzcry09AF6y9"
   },
   "source": [
    "algoritmo 3"
   ]
  },
  {
   "cell_type": "markdown",
   "metadata": {
    "id": "az37aln3F8zA"
   },
   "source": [
    "# Resultados\n"
   ]
  },
  {
   "cell_type": "markdown",
   "metadata": {
    "id": "fMle2Q2oGDzC"
   },
   "source": [
    "# Contribucion de cada integrante"
   ]
  }
 ],
 "metadata": {
  "colab": {
   "provenance": []
  },
  "kernelspec": {
   "display_name": "Python 3",
   "name": "python3"
  },
  "language_info": {
   "name": "python"
  }
 },
 "nbformat": 4,
 "nbformat_minor": 0
}
