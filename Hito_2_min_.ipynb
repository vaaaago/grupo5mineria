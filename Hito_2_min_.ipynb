{
  "nbformat": 4,
  "nbformat_minor": 0,
  "metadata": {
    "colab": {
      "provenance": []
    },
    "kernelspec": {
      "name": "python3",
      "display_name": "Python 3"
    },
    "language_info": {
      "name": "python"
    }
  },
  "cells": [
    {
      "cell_type": "markdown",
      "source": [
        "# Hito 2 Mineria de datos (cc5205)\n"
      ],
      "metadata": {
        "id": "rTymYOakD5TD"
      }
    },
    {
      "cell_type": "markdown",
      "source": [
        "Integrantes:\n",
        "\n",
        "*   Elemento de lista\n",
        "*   Elemento de lista\n",
        "*   Elemento de lista\n",
        "*   Elemento de lista\n",
        "*   Elemento de lista\n",
        "\n",
        "\n"
      ],
      "metadata": {
        "id": "GSjdq55fEMT3"
      }
    },
    {
      "cell_type": "markdown",
      "source": [
        "# Indice"
      ],
      "metadata": {
        "id": "fALQKg0REU5E"
      }
    },
    {
      "cell_type": "markdown",
      "source": [
        "# Introduccion"
      ],
      "metadata": {
        "id": "8ffkHVi6Ee7P"
      }
    },
    {
      "cell_type": "markdown",
      "source": [
        "# Limpieza de los datasets\n"
      ],
      "metadata": {
        "id": "WxWWREgJEm8t"
      }
    },
    {
      "cell_type": "markdown",
      "source": [
        "# Exploracion de datos"
      ],
      "metadata": {
        "id": "33NffQ_qE78n"
      }
    },
    {
      "cell_type": "code",
      "source": [
        "#Importacion de librerias para el trabajo\n",
        "import pandas as pd\n",
        "import matplotlib.pyplot as plt\n",
        "import seaborn as sns\n",
        "\n",
        "# seteamos que pandas imprima todas las columnas al mostrar un dataframe\n",
        "pd.set_option('display.max_columns', None)"
      ],
      "metadata": {
        "id": "A2wFrZtENbz_"
      },
      "execution_count": 4,
      "outputs": []
    },
    {
      "cell_type": "code",
      "source": [
        "# importanción de anime y users, que son las tablas mas pequeñas\n",
        "anime = pd.read_csv('anime_cleaned.csv')\n",
        "users = pd.read_csv('users_cleaned.csv')\n"
      ],
      "metadata": {
        "id": "VHt-5qw6N0F5"
      },
      "execution_count": 5,
      "outputs": []
    },
    {
      "cell_type": "markdown",
      "source": [
        "# Consultas sobre el dataset"
      ],
      "metadata": {
        "id": "mQpm7I56FBGp"
      }
    },
    {
      "cell_type": "markdown",
      "source": [
        "# Preguntas y problemas"
      ],
      "metadata": {
        "id": "L853IttIFOwo"
      }
    },
    {
      "cell_type": "markdown",
      "source": [
        "# Propuesta experimental"
      ],
      "metadata": {
        "id": "gkQdFIzPFX8S"
      }
    },
    {
      "cell_type": "markdown",
      "source": [
        "# Respondiendo la pregunta 1 usando el metodo experimental"
      ],
      "metadata": {
        "id": "CiYaZek2FqOH"
      }
    },
    {
      "cell_type": "markdown",
      "source": [
        "algoritmo 1"
      ],
      "metadata": {
        "id": "DHURFsJZFy1S"
      }
    },
    {
      "cell_type": "markdown",
      "source": [
        "algoritmo 2"
      ],
      "metadata": {
        "id": "AE8VnFNXF487"
      }
    },
    {
      "cell_type": "markdown",
      "source": [
        "algoritmo 3"
      ],
      "metadata": {
        "id": "Jzcry09AF6y9"
      }
    },
    {
      "cell_type": "markdown",
      "source": [
        "# Resultados\n"
      ],
      "metadata": {
        "id": "az37aln3F8zA"
      }
    },
    {
      "cell_type": "markdown",
      "source": [
        "# Contribucion de cada integrante"
      ],
      "metadata": {
        "id": "fMle2Q2oGDzC"
      }
    }
  ]
}